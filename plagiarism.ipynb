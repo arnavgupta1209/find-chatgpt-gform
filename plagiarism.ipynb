{
 "cells": [
  {
   "cell_type": "code",
   "execution_count": null,
   "metadata": {},
   "outputs": [],
   "source": [
    "import gspread as gspread\n",
    "import pandas as pd\n",
    "import seaborn as sns\n",
    "gc = gspread.service_account(filename=\"credentials.json\")\n",
    "\n",
    "deb_sheet = gc.open_by_key(\"1M73E7iftyWjrAQHfuyS-xFNAjN4_jO1F2SXdK6lq-1g\").sheet1\n",
    "\n",
    "deb_df = pd.DataFrame(deb_sheet.get_all_records())\n",
    "\n"
   ]
  },
  {
   "cell_type": "code",
   "execution_count": null,
   "metadata": {},
   "outputs": [],
   "source": [
    "deb_df[\"maxitali\"] = deb_df[\"Write your views on the perilous situation of immigrants locked between the US-Mexico border. Discuss the rise of illegal activities and it\\'s impact on both the countries. Also highlight possible solutions for this problem.\\n\\nOr\\n\\nGiven the recent change of government in Afghanistan and its annexation by the Taliban, should UN recognise the Islamic Emirate of Taliban? Justify your answer sufficiently.\"]\n",
    "deb_df[\"feminism\"] = deb_df[\"Write a short note either for or against the motion: \\\"Feminists should actively reclaim domestic activities (such as gardening, cooking) as empowering.\\\" \"]\n",
    "deb_df.head()"
   ]
  },
  {
   "cell_type": "code",
   "execution_count": null,
   "metadata": {},
   "outputs": [],
   "source": [
    "import json as js\n",
    "\n",
    "f = open(\"feminism.json\", 'r')\n",
    "chat_ans = js.load(f)\n",
    "\n",
    "fmax = open(\"maxitali.json\", 'r')\n",
    "chat_ans_max = js.load(fmax)"
   ]
  },
  {
   "cell_type": "code",
   "execution_count": null,
   "metadata": {},
   "outputs": [],
   "source": [
    "chat_ans = chat_ans[\"data\"]\n",
    "chat_ans_max = chat_ans_max[\"data\"]\n"
   ]
  },
  {
   "cell_type": "code",
   "execution_count": null,
   "metadata": {},
   "outputs": [],
   "source": [
    "from difflib import SequenceMatcher\n",
    "\n",
    "def similar(a, b):\n",
    "    c = a.lower()\n",
    "    d = b.lower()\n",
    "    return SequenceMatcher(None, c, d).ratio()\n",
    "\n",
    "def similiarchatgpt(text):\n",
    "    max_list = []\n",
    "    for i in chat_ans:\n",
    "        similarity = similar(text, i)\n",
    "        max_list.append(similarity)\n",
    "    return max(max_list)\n",
    "\n",
    "def similiarchatgptmex(text):\n",
    "    max_list = []\n",
    "    for i in chat_ans_max:\n",
    "        similarity = similar(text, i)\n",
    "        max_list.append(similarity)\n",
    "    return max(max_list)"
   ]
  },
  {
   "cell_type": "code",
   "execution_count": null,
   "metadata": {},
   "outputs": [],
   "source": [
    "similarity_list = []\n",
    "for i, v in enumerate(deb_df[\"feminism\"]):\n",
    "    similarity_list.append(similiarchatgpt(v))\n",
    "similarity_list"
   ]
  },
  {
   "cell_type": "code",
   "execution_count": null,
   "metadata": {},
   "outputs": [],
   "source": [
    "deb_df['femsim'] = similarity_list\n"
   ]
  },
  {
   "cell_type": "code",
   "execution_count": null,
   "metadata": {},
   "outputs": [],
   "source": [
    "#deb_df.sort_values(by=\"femsim\", ascending=False)"
   ]
  },
  {
   "cell_type": "code",
   "execution_count": null,
   "metadata": {},
   "outputs": [],
   "source": [
    "similarity_list_mex = []\n",
    "for i, v in enumerate(deb_df[\"maxitali\"]):\n",
    "    similarity_list_mex.append(similiarchatgptmex(v))\n",
    "similarity_list_mex"
   ]
  },
  {
   "cell_type": "code",
   "execution_count": null,
   "metadata": {},
   "outputs": [],
   "source": [
    "deb_df['mexsim'] = similarity_list_mex\n"
   ]
  },
  {
   "cell_type": "code",
   "execution_count": null,
   "metadata": {},
   "outputs": [],
   "source": [
    "# deb_df.sort_values(by=\"femsim\", ascending=False)\n"
   ]
  },
  {
   "cell_type": "code",
   "execution_count": null,
   "metadata": {},
   "outputs": [],
   "source": [
    "\n",
    "# deb_df.sort_values(by=\"mexsim\", ascending=False)"
   ]
  },
  {
   "cell_type": "code",
   "execution_count": null,
   "metadata": {},
   "outputs": [],
   "source": [
    "deb_df[\"mexsim\"].describe()"
   ]
  },
  {
   "cell_type": "code",
   "execution_count": null,
   "metadata": {},
   "outputs": [],
   "source": [
    "deb_df[\"femsim\"].describe(percentiles=[.9,.95,.97])"
   ]
  },
  {
   "cell_type": "code",
   "execution_count": null,
   "metadata": {},
   "outputs": [],
   "source": [
    "deb_df[\"mexsim\"].describe(percentiles=[.9,.95,.97])"
   ]
  },
  {
   "cell_type": "code",
   "execution_count": null,
   "metadata": {},
   "outputs": [],
   "source": [
    "sns.histplot(data=deb_df[\"mexsim\"])"
   ]
  },
  {
   "cell_type": "code",
   "execution_count": null,
   "metadata": {},
   "outputs": [],
   "source": [
    "sns.histplot(data=deb_df[\"femsim\"] )"
   ]
  },
  {
   "cell_type": "code",
   "execution_count": null,
   "metadata": {},
   "outputs": [],
   "source": [
    "from scipy.stats import zscore\n",
    "\n",
    "deb_df[\"mex_z\"] = zscore(deb_df[\"mexsim\"])\n",
    "deb_df[\"fem_z\"] = zscore(deb_df[\"femsim\"])\n"
   ]
  },
  {
   "cell_type": "code",
   "execution_count": null,
   "metadata": {},
   "outputs": [],
   "source": [
    "sns.displot(deb_df, x=\"mexsim\", y=\"mex_z\")"
   ]
  },
  {
   "cell_type": "code",
   "execution_count": null,
   "metadata": {},
   "outputs": [],
   "source": [
    "sns.histplot(data=deb_df[\"mex_z\"] )"
   ]
  },
  {
   "cell_type": "code",
   "execution_count": null,
   "metadata": {},
   "outputs": [],
   "source": [
    "flag = []\n",
    "for i in range(len(deb_df)):\n",
    "    record = deb_df.iloc[i]\n",
    "    if (record[\"fem_z\"]>=4) or (record[\"mex_z\"]>=4):\n",
    "        flag.append(\"True\")\n",
    "    elif (record[\"fem_z\"]>=2) or (record[\"mex_z\"]>=2):\n",
    "        flag.append(\"Maybe\")\n",
    "    else:\n",
    "        flag.append(\"False\")\n",
    "flag"
   ]
  },
  {
   "cell_type": "code",
   "execution_count": null,
   "metadata": {},
   "outputs": [],
   "source": [
    "deb_df[\"flag\"] = flag"
   ]
  },
  {
   "cell_type": "code",
   "execution_count": null,
   "metadata": {},
   "outputs": [],
   "source": [
    "deb_df[\"flag\"].tolist()"
   ]
  },
  {
   "cell_type": "code",
   "execution_count": null,
   "metadata": {},
   "outputs": [],
   "source": [
    "import time as time\n",
    "for i in range(len(flag)):\n",
    "    deb_sheet.update(f\"N{2+i}\", flag[i])\n",
    "    time.sleep(1.1)"
   ]
  },
  {
   "cell_type": "code",
   "execution_count": null,
   "metadata": {},
   "outputs": [],
   "source": [
    "# deb_sheet.update(f\"N2:N{2+len(flag)}\", [flag])"
   ]
  },
  {
   "cell_type": "code",
   "execution_count": null,
   "metadata": {},
   "outputs": [],
   "source": [
    "deb_df[deb_df['flag'] == \"Maybe\"].describe()"
   ]
  },
  {
   "cell_type": "code",
   "execution_count": null,
   "metadata": {},
   "outputs": [],
   "source": [
    "flagged =deb_df[deb_df[\"flag\"] == \"True\"]"
   ]
  },
  {
   "cell_type": "code",
   "execution_count": null,
   "metadata": {},
   "outputs": [],
   "source": [
    "flagged = flagged[[\"maxitali\", \"feminism\", \"mex_z\", \"fem_z\"]]"
   ]
  },
  {
   "cell_type": "code",
   "execution_count": null,
   "metadata": {},
   "outputs": [],
   "source": [
    "flagged"
   ]
  },
  {
   "cell_type": "code",
   "execution_count": null,
   "metadata": {},
   "outputs": [],
   "source": [
    "for i in flagged[flagged[\"fem_z\"]>4][\"feminism\"]:\n",
    "    print(i)\n",
    "    print(\"====================================================\")"
   ]
  },
  {
   "cell_type": "code",
   "execution_count": null,
   "metadata": {},
   "outputs": [],
   "source": [
    "for i in flagged[flagged[\"mex_z\"]>3][\"maxitali\"]:\n",
    "    print(i)\n",
    "    print(\"====================================================\")"
   ]
  },
  {
   "cell_type": "code",
   "execution_count": null,
   "metadata": {},
   "outputs": [],
   "source": [
    "deb_df[deb_df[\"Name\"]==\"Aryan Sharma\"]"
   ]
  },
  {
   "cell_type": "code",
   "execution_count": null,
   "metadata": {},
   "outputs": [],
   "source": [
    "deb_df[deb_df[\"flag\"] == \"True\"]"
   ]
  }
 ],
 "metadata": {
  "kernelspec": {
   "display_name": "base",
   "language": "python",
   "name": "python3"
  },
  "language_info": {
   "codemirror_mode": {
    "name": "ipython",
    "version": 3
   },
   "file_extension": ".py",
   "mimetype": "text/x-python",
   "name": "python",
   "nbconvert_exporter": "python",
   "pygments_lexer": "ipython3",
   "version": "3.9.12 (main, Apr  4 2022, 05:22:27) [MSC v.1916 64 bit (AMD64)]"
  },
  "orig_nbformat": 4,
  "vscode": {
   "interpreter": {
    "hash": "705dbd867204e09bb2d4323a45eaaccfed9aa4ab0ac78e503198d0b5ca4f1711"
   }
  }
 },
 "nbformat": 4,
 "nbformat_minor": 2
}
